{
  "nbformat": 4,
  "nbformat_minor": 0,
  "metadata": {
    "colab": {
      "provenance": [],
      "include_colab_link": true
    },
    "kernelspec": {
      "name": "python3",
      "display_name": "Python 3"
    },
    "language_info": {
      "name": "python"
    }
  },
  "cells": [
    {
      "cell_type": "markdown",
      "metadata": {
        "id": "view-in-github",
        "colab_type": "text"
      },
      "source": [
        "<a href=\"https://colab.research.google.com/github/SohamAgrawal/C-92-PROJECT/blob/main/PRO_C109_Student_Activity.ipynb\" target=\"_parent\"><img src=\"https://colab.research.google.com/assets/colab-badge.svg\" alt=\"Open In Colab\"/></a>"
      ]
    },
    {
      "cell_type": "markdown",
      "metadata": {
        "id": "FEJpk7d85AEe"
      },
      "source": [
        "## Phonebook"
      ]
    },
    {
      "cell_type": "code",
      "metadata": {
        "id": "TvPncZmt4lLb"
      },
      "source": [
        "# Define Class\n",
        "class Contact_Details:\n",
        "\n",
        "    # Define Attributes of class\n",
        "    def __init__(self, name, mobile_number, email, address):\n",
        "        self.contact_name = name\n",
        "        self.contact_number = mobile_number\n",
        "        self.email = email\n",
        "        self.contact_address = address\n",
        "\n",
        "        # Make a dictionary of the contact details\n",
        "        self.person = {\n",
        "            \"name\": self.contact_name,\n",
        "            \"mobile\" : self.contact_number,\n",
        "            \"email\": self.email,\n",
        "            \"address\": self.contact_address\n",
        "        }\n",
        "\n",
        "\n",
        "    # Define Methods of class\n",
        "    def view_contact_details(self, contact_list):\n",
        "         print(contact_list)\n",
        "\n",
        "    # Add the contact details to the list\n",
        "    def add_contact_details(self, contact_list):\n",
        "      contact_list.append(self.person)\n",
        "\n",
        "    # REPLACE THIS COMMENT WITH CODE#"
      ],
      "execution_count": 1,
      "outputs": []
    },
    {
      "cell_type": "code",
      "metadata": {
        "id": "IhfI3d6OF6K8"
      },
      "source": [
        "# Create Object of the class\n",
        "phonebook = []"
      ],
      "execution_count": 4,
      "outputs": []
    },
    {
      "cell_type": "code",
      "metadata": {
        "id": "kWMf88E6jMn3"
      },
      "source": [
        "# Call Methods of the class\n",
        "new_contact = Contact_Details(\"Soham\",766664645534,\"Soham@gmail.com\",\"Mumbai,Indore\")"
      ],
      "execution_count": 5,
      "outputs": []
    },
    {
      "cell_type": "code",
      "source": [
        "new_contact.add_contact_details(phonebook)"
      ],
      "metadata": {
        "id": "CT_Pr1WmUnik"
      },
      "execution_count": 6,
      "outputs": []
    },
    {
      "cell_type": "code",
      "source": [
        "new_contact.view_contact_details(phonebook)"
      ],
      "metadata": {
        "id": "IIE1bI5wUzkT",
        "outputId": "d69ee7dc-d3d0-4299-e143-de7891d03e41",
        "colab": {
          "base_uri": "https://localhost:8080/",
          "height": 177
        }
      },
      "execution_count": 1,
      "outputs": [
        {
          "output_type": "error",
          "ename": "NameError",
          "evalue": "ignored",
          "traceback": [
            "\u001b[0;31m---------------------------------------------------------------------------\u001b[0m",
            "\u001b[0;31mNameError\u001b[0m                                 Traceback (most recent call last)",
            "\u001b[0;32m<ipython-input-1-c0b0c2657725>\u001b[0m in \u001b[0;36m<cell line: 1>\u001b[0;34m()\u001b[0m\n\u001b[0;32m----> 1\u001b[0;31m \u001b[0mnew_contact\u001b[0m\u001b[0;34m.\u001b[0m\u001b[0mview_contact_details\u001b[0m\u001b[0;34m(\u001b[0m\u001b[0mphonebook\u001b[0m\u001b[0;34m)\u001b[0m\u001b[0;34m\u001b[0m\u001b[0;34m\u001b[0m\u001b[0m\n\u001b[0m",
            "\u001b[0;31mNameError\u001b[0m: name 'new_contact' is not defined"
          ]
        }
      ]
    }
  ]
}